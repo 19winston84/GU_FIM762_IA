{
  "nbformat": 4,
  "nbformat_minor": 0,
  "metadata": {
    "colab": {
      "provenance": []
    },
    "kernelspec": {
      "name": "python3",
      "display_name": "Python 3"
    },
    "language_info": {
      "name": "python"
    }
  },
  "cells": [
    {
      "cell_type": "code",
      "execution_count": null,
      "metadata": {
        "colab": {
          "base_uri": "https://localhost:8080/"
        },
        "id": "82rRLzxD6-hB",
        "outputId": "777bee69-2ef8-4b83-e00f-748a4a85c69c"
      },
      "outputs": [
        {
          "output_type": "stream",
          "name": "stderr",
          "text": [
            "[nltk_data] Downloading package averaged_perceptron_tagger to\n",
            "[nltk_data]     /root/nltk_data...\n",
            "[nltk_data]   Unzipping taggers/averaged_perceptron_tagger.zip.\n",
            "[nltk_data] Downloading package universal_tagset to /root/nltk_data...\n",
            "[nltk_data]   Unzipping taggers/universal_tagset.zip.\n"
          ]
        }
      ],
      "source": [
        "import nltk\n",
        "from nltk.tag.perceptron import PerceptronTagger\n",
        "\n",
        "nltk.download('averaged_perceptron_tagger')\n",
        "nltk.download('universal_tagset')\n",
        "tagger = PerceptronTagger()"
      ]
    },
    {
      "cell_type": "code",
      "source": [
        "from google.colab import files\n",
        "uploaded = files.upload()"
      ],
      "metadata": {
        "colab": {
          "base_uri": "https://localhost:8080/",
          "height": 109
        },
        "id": "7cqkrTx39Ijb",
        "outputId": "ff56cb59-04a8-4458-ce51-1b1ee0cfa79c"
      },
      "execution_count": null,
      "outputs": [
        {
          "output_type": "display_data",
          "data": {
            "text/plain": [
              "<IPython.core.display.HTML object>"
            ],
            "text/html": [
              "\n",
              "     <input type=\"file\" id=\"files-b9f77de7-e68a-427c-a94e-bf36583bf243\" name=\"files[]\" multiple disabled\n",
              "        style=\"border:none\" />\n",
              "     <output id=\"result-b9f77de7-e68a-427c-a94e-bf36583bf243\">\n",
              "      Upload widget is only available when the cell has been executed in the\n",
              "      current browser session. Please rerun this cell to enable.\n",
              "      </output>\n",
              "      <script>// Copyright 2017 Google LLC\n",
              "//\n",
              "// Licensed under the Apache License, Version 2.0 (the \"License\");\n",
              "// you may not use this file except in compliance with the License.\n",
              "// You may obtain a copy of the License at\n",
              "//\n",
              "//      http://www.apache.org/licenses/LICENSE-2.0\n",
              "//\n",
              "// Unless required by applicable law or agreed to in writing, software\n",
              "// distributed under the License is distributed on an \"AS IS\" BASIS,\n",
              "// WITHOUT WARRANTIES OR CONDITIONS OF ANY KIND, either express or implied.\n",
              "// See the License for the specific language governing permissions and\n",
              "// limitations under the License.\n",
              "\n",
              "/**\n",
              " * @fileoverview Helpers for google.colab Python module.\n",
              " */\n",
              "(function(scope) {\n",
              "function span(text, styleAttributes = {}) {\n",
              "  const element = document.createElement('span');\n",
              "  element.textContent = text;\n",
              "  for (const key of Object.keys(styleAttributes)) {\n",
              "    element.style[key] = styleAttributes[key];\n",
              "  }\n",
              "  return element;\n",
              "}\n",
              "\n",
              "// Max number of bytes which will be uploaded at a time.\n",
              "const MAX_PAYLOAD_SIZE = 100 * 1024;\n",
              "\n",
              "function _uploadFiles(inputId, outputId) {\n",
              "  const steps = uploadFilesStep(inputId, outputId);\n",
              "  const outputElement = document.getElementById(outputId);\n",
              "  // Cache steps on the outputElement to make it available for the next call\n",
              "  // to uploadFilesContinue from Python.\n",
              "  outputElement.steps = steps;\n",
              "\n",
              "  return _uploadFilesContinue(outputId);\n",
              "}\n",
              "\n",
              "// This is roughly an async generator (not supported in the browser yet),\n",
              "// where there are multiple asynchronous steps and the Python side is going\n",
              "// to poll for completion of each step.\n",
              "// This uses a Promise to block the python side on completion of each step,\n",
              "// then passes the result of the previous step as the input to the next step.\n",
              "function _uploadFilesContinue(outputId) {\n",
              "  const outputElement = document.getElementById(outputId);\n",
              "  const steps = outputElement.steps;\n",
              "\n",
              "  const next = steps.next(outputElement.lastPromiseValue);\n",
              "  return Promise.resolve(next.value.promise).then((value) => {\n",
              "    // Cache the last promise value to make it available to the next\n",
              "    // step of the generator.\n",
              "    outputElement.lastPromiseValue = value;\n",
              "    return next.value.response;\n",
              "  });\n",
              "}\n",
              "\n",
              "/**\n",
              " * Generator function which is called between each async step of the upload\n",
              " * process.\n",
              " * @param {string} inputId Element ID of the input file picker element.\n",
              " * @param {string} outputId Element ID of the output display.\n",
              " * @return {!Iterable<!Object>} Iterable of next steps.\n",
              " */\n",
              "function* uploadFilesStep(inputId, outputId) {\n",
              "  const inputElement = document.getElementById(inputId);\n",
              "  inputElement.disabled = false;\n",
              "\n",
              "  const outputElement = document.getElementById(outputId);\n",
              "  outputElement.innerHTML = '';\n",
              "\n",
              "  const pickedPromise = new Promise((resolve) => {\n",
              "    inputElement.addEventListener('change', (e) => {\n",
              "      resolve(e.target.files);\n",
              "    });\n",
              "  });\n",
              "\n",
              "  const cancel = document.createElement('button');\n",
              "  inputElement.parentElement.appendChild(cancel);\n",
              "  cancel.textContent = 'Cancel upload';\n",
              "  const cancelPromise = new Promise((resolve) => {\n",
              "    cancel.onclick = () => {\n",
              "      resolve(null);\n",
              "    };\n",
              "  });\n",
              "\n",
              "  // Wait for the user to pick the files.\n",
              "  const files = yield {\n",
              "    promise: Promise.race([pickedPromise, cancelPromise]),\n",
              "    response: {\n",
              "      action: 'starting',\n",
              "    }\n",
              "  };\n",
              "\n",
              "  cancel.remove();\n",
              "\n",
              "  // Disable the input element since further picks are not allowed.\n",
              "  inputElement.disabled = true;\n",
              "\n",
              "  if (!files) {\n",
              "    return {\n",
              "      response: {\n",
              "        action: 'complete',\n",
              "      }\n",
              "    };\n",
              "  }\n",
              "\n",
              "  for (const file of files) {\n",
              "    const li = document.createElement('li');\n",
              "    li.append(span(file.name, {fontWeight: 'bold'}));\n",
              "    li.append(span(\n",
              "        `(${file.type || 'n/a'}) - ${file.size} bytes, ` +\n",
              "        `last modified: ${\n",
              "            file.lastModifiedDate ? file.lastModifiedDate.toLocaleDateString() :\n",
              "                                    'n/a'} - `));\n",
              "    const percent = span('0% done');\n",
              "    li.appendChild(percent);\n",
              "\n",
              "    outputElement.appendChild(li);\n",
              "\n",
              "    const fileDataPromise = new Promise((resolve) => {\n",
              "      const reader = new FileReader();\n",
              "      reader.onload = (e) => {\n",
              "        resolve(e.target.result);\n",
              "      };\n",
              "      reader.readAsArrayBuffer(file);\n",
              "    });\n",
              "    // Wait for the data to be ready.\n",
              "    let fileData = yield {\n",
              "      promise: fileDataPromise,\n",
              "      response: {\n",
              "        action: 'continue',\n",
              "      }\n",
              "    };\n",
              "\n",
              "    // Use a chunked sending to avoid message size limits. See b/62115660.\n",
              "    let position = 0;\n",
              "    do {\n",
              "      const length = Math.min(fileData.byteLength - position, MAX_PAYLOAD_SIZE);\n",
              "      const chunk = new Uint8Array(fileData, position, length);\n",
              "      position += length;\n",
              "\n",
              "      const base64 = btoa(String.fromCharCode.apply(null, chunk));\n",
              "      yield {\n",
              "        response: {\n",
              "          action: 'append',\n",
              "          file: file.name,\n",
              "          data: base64,\n",
              "        },\n",
              "      };\n",
              "\n",
              "      let percentDone = fileData.byteLength === 0 ?\n",
              "          100 :\n",
              "          Math.round((position / fileData.byteLength) * 100);\n",
              "      percent.textContent = `${percentDone}% done`;\n",
              "\n",
              "    } while (position < fileData.byteLength);\n",
              "  }\n",
              "\n",
              "  // All done.\n",
              "  yield {\n",
              "    response: {\n",
              "      action: 'complete',\n",
              "    }\n",
              "  };\n",
              "}\n",
              "\n",
              "scope.google = scope.google || {};\n",
              "scope.google.colab = scope.google.colab || {};\n",
              "scope.google.colab._files = {\n",
              "  _uploadFiles,\n",
              "  _uploadFilesContinue,\n",
              "};\n",
              "})(self);\n",
              "</script> "
            ]
          },
          "metadata": {}
        },
        {
          "output_type": "stream",
          "name": "stdout",
          "text": [
            "Saving BrownCorpus.txt to BrownCorpus.txt\n",
            "Saving BrownToUniversalTagMap.txt to BrownToUniversalTagMap.txt\n"
          ]
        }
      ]
    },
    {
      "cell_type": "code",
      "source": [
        "with open(\"BrownCorpus.txt\") as file:\n",
        "  brownCorpusData = file.readlines()"
      ],
      "metadata": {
        "id": "2LaCit0K9jSn"
      },
      "execution_count": null,
      "outputs": []
    },
    {
      "cell_type": "code",
      "source": [
        "class Token:\n",
        "    def __init__(self, Spelling, POSTag):\n",
        "        self.Spelling = Spelling.lower().strip()\n",
        "        self.POSTag = POSTag.strip()\n",
        "\n",
        "    def GetSpelling(self):\n",
        "        return self.Spelling\n",
        "\n",
        "    def GetPOSTag(self):\n",
        "        return self.POSTag\n",
        "\n",
        "class TokenData:\n",
        "    def __init__(self, token):\n",
        "        self.token = token\n",
        "\n",
        "    def GetToken(self):\n",
        "        return self.token\n",
        "\n",
        "class Sentence:\n",
        "    def __init__(self):\n",
        "        self.TokenDataList = []\n",
        "\n",
        "    def GetTokenDataList(self):\n",
        "        return self.TokenDataList\n",
        "\n",
        "class POSData:\n",
        "    def __init__(self):\n",
        "        self.SentenceList = []\n",
        "\n",
        "    def AddSentence(self, sentence):\n",
        "        self.SentenceList.append(sentence)\n",
        "\n",
        "    def GetSentenceList(self):\n",
        "        return self.SentenceList\n"
      ],
      "metadata": {
        "id": "qbEaVGL3RdeJ"
      },
      "execution_count": null,
      "outputs": []
    },
    {
      "cell_type": "markdown",
      "source": [
        "Structuring the BrownCorpus data to accessible tokens, with Spelling and POSTag."
      ],
      "metadata": {
        "id": "af_7i5D8pi7r"
      }
    },
    {
      "cell_type": "code",
      "source": [
        "completeDataSet = POSData()\n",
        "\n",
        "for line in brownCorpusData:\n",
        "    line = line.strip()  # Remove leading/trailing whitespaces\n",
        "    if line:\n",
        "        lineSplit = line.split()\n",
        "        tokenDataList = []\n",
        "        sentence = Sentence()\n",
        "\n",
        "        for lineSplitItem in lineSplit:\n",
        "            spellingAndTag = lineSplitItem.split('_')\n",
        "            if len(spellingAndTag) == 2:\n",
        "                token = Token(spellingAndTag[0], spellingAndTag[1])\n",
        "                tokenData = TokenData(token)\n",
        "                if len(token.POSTag) == 1 or token.POSTag[1] != '|':\n",
        "                    tokenDataList.append(tokenData)\n",
        "\n",
        "        sentence.TokenDataList = tokenDataList\n",
        "        completeDataSet.AddSentence(sentence)"
      ],
      "metadata": {
        "id": "hm8zbXQ6nOo8"
      },
      "execution_count": null,
      "outputs": []
    },
    {
      "cell_type": "markdown",
      "source": [
        "Creating a mapping from BrownTag to 12 universal tags."
      ],
      "metadata": {
        "id": "oY1rTY-9pzMz"
      }
    },
    {
      "cell_type": "code",
      "source": [
        "with open(\"BrownToUniversalTagMap.txt\") as file:\n",
        "  mapData = file.readlines()"
      ],
      "metadata": {
        "id": "A_OcFFkgp8jP"
      },
      "execution_count": null,
      "outputs": []
    },
    {
      "cell_type": "markdown",
      "source": [],
      "metadata": {
        "id": "ubo5zRksxHpB"
      }
    },
    {
      "cell_type": "code",
      "source": [
        "class TagConversionPair:\n",
        "  def __init__(self, oldTag, newTag):\n",
        "    self.oldTag = oldTag\n",
        "    self.newTag = newTag\n",
        "\n",
        "  def GetOldTag(self):\n",
        "    return self.oldTag\n",
        "\n",
        "  def GetNewTag(self):\n",
        "    return self.newTag\n",
        "\n",
        "\n",
        "class ConversionInstruction:\n",
        "  def __init__(self):\n",
        "    self.TagConversionPairList = []\n",
        "\n",
        "  def AddTagConversionPair(self, TagPair):\n",
        "    self.TagConversionPairList.append(TagPair)\n",
        "\n",
        "  def GetTagConversionPair(self):\n",
        "    return self.TagConversionPairList"
      ],
      "metadata": {
        "id": "0BSaevj4qNnB"
      },
      "execution_count": null,
      "outputs": []
    },
    {
      "cell_type": "code",
      "source": [
        "completeConversionSet = ConversionInstruction()\n",
        "\n",
        "for line in mapData:\n",
        "    line = line.strip()  # Remove leading/trailing whitespaces\n",
        "    if line:\n",
        "        lineSplit = line.split('\\t')\n",
        "        oldTag = lineSplit[0]\n",
        "        newTag = lineSplit[1]\n",
        "        tagPair = TagConversionPair(oldTag, newTag)\n",
        "        completeConversionSet.AddTagConversionPair(tagPair)"
      ],
      "metadata": {
        "id": "Mq5mliIRsw-Z"
      },
      "execution_count": null,
      "outputs": []
    },
    {
      "cell_type": "markdown",
      "source": [
        "Before translating the old Tags, create a test set. Then use the completeConversionSet to convert the POSTags of the BrownCorpus to the 12 universal tags."
      ],
      "metadata": {
        "id": "ILUT0W17zQqV"
      }
    },
    {
      "cell_type": "code",
      "source": [
        "import random\n",
        "\n",
        "totalSentences = len(completeDataSet.GetSentenceList())\n",
        "trainSize = int(0.8 * totalSentences)\n",
        "testSize = totalSentences - trainSize\n",
        "\n",
        "sentences = completeDataSet.GetSentenceList()\n",
        "\n",
        "# Shuffle the list of sentences to ensure randomness\n",
        "random.shuffle(sentences)\n",
        "\n",
        "trainSet = sentences[:trainSize]\n",
        "testSet = sentences[trainSize:]\n",
        "\n",
        "print(\"Training set size:\", len(trainSet)/(len(trainSet)+len(testSet)))\n",
        "print(\"Test set size:\", len(testSet)/(len(trainSet)+len(testSet)))\n"
      ],
      "metadata": {
        "colab": {
          "base_uri": "https://localhost:8080/"
        },
        "id": "WO8uRkhf2C3S",
        "outputId": "f3f3dd45-83e2-4800-82a0-fe768426b157"
      },
      "execution_count": null,
      "outputs": [
        {
          "output_type": "stream",
          "name": "stdout",
          "text": [
            "Training set size: 0.7999929332367542\n",
            "Test set size: 0.20000706676324576\n"
          ]
        }
      ]
    },
    {
      "cell_type": "markdown",
      "source": [
        "Now the testSet POSTags will be converted and are ready to be compared to the POSTags of the PerceptronTagger in the next step."
      ],
      "metadata": {
        "id": "9b-SRDSfAsyH"
      }
    },
    {
      "cell_type": "code",
      "source": [
        "def convertTags(token, conversionSet):\n",
        "    for pair in conversionSet.GetTagConversionPair():\n",
        "        if token.GetPOSTag() == pair.GetOldTag():\n",
        "            token.POSTag = pair.GetNewTag()\n",
        "            break\n",
        "    return token\n",
        "\n",
        "for sentence in testSet:\n",
        "    for tokenData in sentence.GetTokenDataList():\n",
        "        tokenData.token = convertTags(tokenData.token, completeConversionSet)"
      ],
      "metadata": {
        "id": "sWJUJwO0zNU6"
      },
      "execution_count": null,
      "outputs": []
    },
    {
      "cell_type": "markdown",
      "source": [
        "Now run the Perceptron tagger over the testSet and convert the tags to universal tags."
      ],
      "metadata": {
        "id": "NExVlyMx-o0H"
      }
    },
    {
      "cell_type": "code",
      "source": [
        "listOfSentences = []\n",
        "listOfPerceptronTags = []\n",
        "\n",
        "\n",
        "for sentence in testSet:\n",
        "    spellingString = \"\"\n",
        "\n",
        "    for tokenData in sentence.GetTokenDataList():\n",
        "        spellingString += tokenData.token.GetSpelling() + ' '  # Add a space after each token\n",
        "\n",
        "    listOfSentences.append(spellingString)\n",
        "\n",
        "for sentence in listOfSentences:\n",
        "    taggedSentence = tagger.tag(sentence.split())\n",
        "    universalTags = [(word, nltk.tag.mapping.map_tag('en-ptb', 'universal', tag)) for word, tag in taggedSentence]\n",
        "    listOfPerceptronTags.append(universalTags)"
      ],
      "metadata": {
        "id": "7gTXMdHX_m1c"
      },
      "execution_count": null,
      "outputs": []
    },
    {
      "cell_type": "code",
      "source": [
        "perceptronTags = []\n",
        "for sentence in listOfPerceptronTags:\n",
        "  for pair in sentence:\n",
        "    perceptronTags.append(pair[1])\n",
        "\n",
        "testSetTags = []\n",
        "for testSentence in testSet:\n",
        "  for tag in testSentence.GetTokenDataList():\n",
        "    testSetTags.append(tag.GetToken().GetPOSTag())\n",
        "\n",
        "totalTags = len(perceptronTags)\n",
        "correctCounter = 0\n",
        "for i in range(len(perceptronTags)):\n",
        "  if perceptronTags[i] == testSetTags[i]:\n",
        "    correctCounter += 1\n",
        "\n",
        "print(correctCounter/totalTags)"
      ],
      "metadata": {
        "colab": {
          "base_uri": "https://localhost:8080/"
        },
        "id": "4jEVdMgM_7Zy",
        "outputId": "ef3632e6-712f-49db-83ae-972ca4f2157c"
      },
      "execution_count": null,
      "outputs": [
        {
          "output_type": "stream",
          "name": "stdout",
          "text": [
            "0.9041564250758432\n"
          ]
        }
      ]
    }
  ]
}