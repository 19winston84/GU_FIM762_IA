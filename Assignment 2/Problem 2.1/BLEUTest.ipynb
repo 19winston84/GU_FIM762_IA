{
 "cells": [
  {
   "cell_type": "code",
   "execution_count": 5,
   "metadata": {},
   "outputs": [
    {
     "name": "stdout",
     "output_type": "stream",
     "text": [
      "BLEU score: 0.0\n",
      "BLEU score: 0.0\n",
      "BLEU score: 0.0\n",
      "BLEU score: 0.0\n",
      "BLEU score: 0.0\n",
      "BLEU score: 0.0\n",
      "BLEU score: 0.0\n",
      "BLEU score: 0.0\n",
      "BLEU score: 0.0\n",
      "BLEU score: 0.0\n",
      "['yes .', 'what ?', 'i don t know .', 'no .', 'what ?', 'what ?', 'i don t know .', 'what ? ', 'yeah .', 'the crucifix .']\n",
      "['I recall what I said.', \"I know what I said! I don't have to have it read back to me, like I'm...\", 'Sometimes men take matters into their own hands.', 'You snotty, little bastard.', 'I did the job that—', \"YOU'RE GODDAMN RIGHT I DID!!\", 'I told her I would not grant one.', 'She packed a bag... she packed a bag to go stay with Mr. Miller.', \"I went to a few bars first. Later, I drove to his house to faced them. They weren't home, so I parked in the garage, and waited.\", \"I'm not sure. I was confused... drunk. I think, mostly I wanted to scare them.\"]\n",
      "Total BLEU score: 0.0\n"
     ]
    }
   ],
   "source": [
    "import csv\n",
    "from torchtext.data.metrics import bleu_score\n",
    "\n",
    "# Open the CSV file\n",
    "with open('/Users/fredriktsitje/Documents/Github/GU_FIM762_IA/Assignment 2/Problem 2.1/Chatbot Stats.csv', 'r') as file:\n",
    "    # Create a CSV reader\n",
    "    reader = csv.DictReader(file)\n",
    "    \n",
    "    # Initialize the candidate and reference corpora\n",
    "    candidate_corpus = []\n",
    "    references_corpus = []\n",
    "    \n",
    "    # Iterate over each row and extract the Chatbot and Person B columns\n",
    "    for row in reader:\n",
    "        candidate_corpus.append(row['Chatbot'])\n",
    "        references_corpus.append(row['Person B'])\n",
    "    \n",
    "    # Iterate over each row and calculate the BLEU score\n",
    "    for candidate, reference in zip(candidate_corpus, references_corpus):\n",
    "        bleu = bleu_score([candidate.split()], [reference.split()])\n",
    "        print(f\"BLEU score: {bleu}\")\n",
    "\n",
    "\n",
    "# Compute the total BLEU score using all the reference input-output pairs as the input to the score function\n",
    "bleu = bleu_score(candidate_corpus, references_corpus)\n",
    "print(candidate_corpus)\n",
    "print(references_corpus)\n",
    "print(f\"Total BLEU score: {bleu}\")"
   ]
  },
  {
   "cell_type": "code",
   "execution_count": null,
   "metadata": {},
   "outputs": [],
   "source": []
  }
 ],
 "metadata": {
  "kernelspec": {
   "display_name": "base",
   "language": "python",
   "name": "python3"
  },
  "language_info": {
   "codemirror_mode": {
    "name": "ipython",
    "version": 3
   },
   "file_extension": ".py",
   "mimetype": "text/x-python",
   "name": "python",
   "nbconvert_exporter": "python",
   "pygments_lexer": "ipython3",
   "version": "3.10.9"
  }
 },
 "nbformat": 4,
 "nbformat_minor": 2
}
